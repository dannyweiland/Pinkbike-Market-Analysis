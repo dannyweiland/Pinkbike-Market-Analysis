{
  "nbformat": 4,
  "nbformat_minor": 0,
  "metadata": {
    "colab": {
      "provenance": [],
      "authorship_tag": "ABX9TyOzUo2MP+wbB2ISbnA+Tugl",
      "include_colab_link": true
    },
    "kernelspec": {
      "name": "python3",
      "display_name": "Python 3"
    },
    "language_info": {
      "name": "python"
    }
  },
  "cells": [
    {
      "cell_type": "markdown",
      "metadata": {
        "id": "view-in-github",
        "colab_type": "text"
      },
      "source": [
        "<a href=\"https://colab.research.google.com/github/dannyweiland/Pinkbike-Market-Analysis/blob/main/UsedBikeMarket.ipynb\" target=\"_parent\"><img src=\"https://colab.research.google.com/assets/colab-badge.svg\" alt=\"Open In Colab\"/></a>"
      ]
    },
    {
      "cell_type": "markdown",
      "source": [
        "**PinkBike Buy/Sell Market Report: Enduro**\n",
        "\n",
        "The script below pulls the data from every Enduro bike listing in the North America region of Pinkbike.com."
      ],
      "metadata": {
        "id": "ei0MG677W0AQ"
      }
    },
    {
      "cell_type": "code",
      "execution_count": null,
      "metadata": {
        "colab": {
          "base_uri": "https://localhost:8080/"
        },
        "id": "GuZWGNBzwJMm",
        "outputId": "ae96272e-738c-46cb-aa5b-4b841fd4a074"
      },
      "outputs": [
        {
          "output_type": "stream",
          "name": "stdout",
          "text": [
            "                                                  title      price  \\\n",
            "0     2020 Pivot Firebird pro XT/XTR medium (inc AXS...  $4500 CAD   \n",
            "1     2023 Yeti SB165 L T2 new frame with custom build!  $6450 USD   \n",
            "2               2022 Specialized Enduro custom build S5  $5499 USD   \n",
            "3                       2022 Devinci Spartan High Pivot  $4400 CAD   \n",
            "4                         2023 Cannondale Jekyll Custom  $8999 CAD   \n",
            "...                                                 ...        ...   \n",
            "9650                    2020 Scott Genius 900 Tuned AXS  $5500 USD   \n",
            "9651                 2021 Specialized Turbo Levo Comp M  $7500 CAD   \n",
            "9652           2019 Men's Stumpjumper EVO Comp Alloy 29  $2800 USD   \n",
            "9653           2018 Specialized Enduro Elite 29/6Fattie  $3100 USD   \n",
            "9654        2019 Kona Process 153 CR with some upgrades  $3500 USD   \n",
            "\n",
            "                                  location  \\\n",
            "0         Duncan, British Columbia, Canada   \n",
            "1         Durango, Colorado, United States   \n",
            "2        schodack, New York, United States   \n",
            "3      Kitchener-Waterloo, Ontario, Canada   \n",
            "4      Cranbrook, British Columbia, Canada   \n",
            "...                                    ...   \n",
            "9650   Salt Lake City, Utah, United States   \n",
            "9651  Revelstoke, British Columbia, Canada   \n",
            "9652    Burlington, Vermont, United States   \n",
            "9653      Las Vegas, Nevada, United States   \n",
            "9654    Truckee, California, United States   \n",
            "\n",
            "                                           link  \\\n",
            "0     https://www.pinkbike.com/buysell/3727444/   \n",
            "1     https://www.pinkbike.com/buysell/3741081/   \n",
            "2     https://www.pinkbike.com/buysell/3738435/   \n",
            "3     https://www.pinkbike.com/buysell/3508214/   \n",
            "4     https://www.pinkbike.com/buysell/3715188/   \n",
            "...                                         ...   \n",
            "9650  https://www.pinkbike.com/buysell/3315256/   \n",
            "9651  https://www.pinkbike.com/buysell/3449313/   \n",
            "9652  https://www.pinkbike.com/buysell/3449191/   \n",
            "9653  https://www.pinkbike.com/buysell/3399112/   \n",
            "9654  https://www.pinkbike.com/buysell/3402728/   \n",
            "\n",
            "                           Condition  Frame Size    Wheel Size      Material   \\\n",
            "0     Good - Used, Mechanically Sound           M           29\"  Carbon Fiber   \n",
            "1          Excellent - Lightly Ridden           L  27.5\" / 650B  Carbon Fiber   \n",
            "2     Good - Used, Mechanically Sound          XL           29\"  Carbon Fiber   \n",
            "3     Good - Used, Mechanically Sound           L           29\"  Carbon Fiber   \n",
            "4          Excellent - Lightly Ridden           L           29\"  Carbon Fiber   \n",
            "...                               ...         ...           ...           ...   \n",
            "9650       Excellent - Lightly Ridden           M           29\"  Carbon Fiber   \n",
            "9651       Excellent - Lightly Ridden           M           29\"     Aluminium   \n",
            "9652       Excellent - Lightly Ridden           M           29\"     Aluminium   \n",
            "9653       Excellent - Lightly Ridden           L           29\"  Carbon Fiber   \n",
            "9654  Good - Used, Mechanically Sound           M           29\"  Carbon Fiber   \n",
            "\n",
            "     Front Travel  Rear Travel   \n",
            "0           170 mm       160 mm  \n",
            "1           170 mm       180 mm  \n",
            "2           180 mm       170 mm  \n",
            "3           170 mm       160 mm  \n",
            "4           170 mm       170 mm  \n",
            "...            ...          ...  \n",
            "9650        150 mm       150 mm  \n",
            "9651        160 mm       150 mm  \n",
            "9652        160 mm       150 mm  \n",
            "9653        160 mm       160 mm  \n",
            "9654        160 mm       153 mm  \n",
            "\n",
            "[9655 rows x 10 columns]\n"
          ]
        }
      ],
      "source": [
        "#Import Packages\n",
        "from pprint import pprint\n",
        "import requests\n",
        "from bs4 import BeautifulSoup as bs\n",
        "import pandas as pd\n",
        "\n",
        "\n",
        "\n",
        "def main():\n",
        "    category = 2\n",
        "    bikes = []\n",
        "    for i in range(1, 485):  #483 pages, checked PinkBike before runing this script.  I could make this variable more dynamic, but would rather spend the 2 seconds just checking Pinkbike and hardcoding this value.\n",
        "        bikes.extend(scrape_page(category, i))\n",
        "\n",
        "#Define output dataframe\n",
        "    df = pd.DataFrame(bikes)\n",
        "    print(df)\n",
        "    df.to_csv('bikes_data.csv', index=False)\n",
        "\n",
        "\n",
        "\n",
        "def scrape_page(category_id, page_number):\n",
        "    response = requests.get(\n",
        "        \"https://www.pinkbike.com/buysell/list/\",\n",
        "        params={\"region\": 3, \"category\": category_id, \"page\": page_number},\n",
        "        timeout=10,\n",
        "    )\n",
        "\n",
        "    response.raise_for_status()\n",
        "\n",
        "    soup = bs(response.text, \"html.parser\")\n",
        "\n",
        "\n",
        "    bikes = []\n",
        "    for bike in soup.select(\".bsitem\"):\n",
        "        info = {}\n",
        "        info[\"title\"] = bike.select_one(\".bsitem-title a\").text           #Item title\n",
        "        info[\"price\"] = bike.select_one(\".bsitem-price\").text.strip()     #Item price\n",
        "        info[\"location\"] = bike.select_one(\".flag\").parent.text.strip()   #Item location\n",
        "        link = bike.select_one(\".bsitem-title a\")[\"href\"]\n",
        "        info[\"link\"] =  link\n",
        "\n",
        "\n",
        "        #Now is where we get a lil tricky.  We need to extract the additional details that don't have a cool little custom tag like the others.  This code pulls all itemdetails.\n",
        "        details_element = bike.select(\".itemdetail\")\n",
        "        for detail in details_element:\n",
        "          key = detail.select_one(\"b\").text.strip().rstrip(':')  # Extract the key\n",
        "          value = detail.contents[2].strip()  # Extract the value\n",
        "          info[key] = value\n",
        "\n",
        "        bikes.append(info)\n",
        "    return(bikes)\n",
        "\n",
        "\n",
        "\n",
        "\n",
        "\n",
        "if __name__ == \"__main__\":\n",
        "    main()\n",
        "\n",
        "\n"
      ]
    }
  ]
}